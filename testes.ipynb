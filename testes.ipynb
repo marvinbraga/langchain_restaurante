{
 "cells": [
  {
   "cell_type": "code",
   "execution_count": 19,
   "id": "initial_id",
   "metadata": {
    "collapsed": true,
    "ExecuteTime": {
     "end_time": "2023-09-30T16:11:13.145830722Z",
     "start_time": "2023-09-30T16:11:13.105101729Z"
    }
   },
   "outputs": [],
   "source": [
    "from langchain.memory import RedisChatMessageHistory, ConversationBufferMemory\n",
    "from langchain.schema import SystemMessage"
   ]
  },
  {
   "cell_type": "code",
   "execution_count": 20,
   "outputs": [],
   "source": [
    "store = RedisChatMessageHistory(\n",
    "    url=\"redis://localhost:6379/0\", session_id=\"my-session\"\n",
    ")"
   ],
   "metadata": {
    "collapsed": false,
    "ExecuteTime": {
     "end_time": "2023-09-30T16:11:14.715805316Z",
     "start_time": "2023-09-30T16:11:14.708462533Z"
    }
   },
   "id": "86c54d602803c3b9"
  },
  {
   "cell_type": "code",
   "execution_count": 21,
   "outputs": [],
   "source": [
    "conversation = ConversationBufferMemory(\n",
    "    memory_key=\"my_test\", chat_memory=store\n",
    ")"
   ],
   "metadata": {
    "collapsed": false,
    "ExecuteTime": {
     "end_time": "2023-09-30T16:11:17.549993816Z",
     "start_time": "2023-09-30T16:11:17.544802404Z"
    }
   },
   "id": "47a802da194e8d9a"
  },
  {
   "cell_type": "code",
   "execution_count": 22,
   "outputs": [
    {
     "data": {
      "text/plain": "ConversationBufferMemory(chat_memory=<langchain.memory.chat_message_histories.redis.RedisChatMessageHistory object at 0x7f6cfe560910>, output_key=None, input_key=None, return_messages=False, human_prefix='Human', ai_prefix='AI', memory_key='my_test')"
     },
     "execution_count": 22,
     "metadata": {},
     "output_type": "execute_result"
    }
   ],
   "source": [
    "conversation"
   ],
   "metadata": {
    "collapsed": false,
    "ExecuteTime": {
     "end_time": "2023-09-30T16:11:21.078928156Z",
     "start_time": "2023-09-30T16:11:21.071855241Z"
    }
   },
   "id": "1b5ca9234ab00914"
  },
  {
   "cell_type": "code",
   "execution_count": 23,
   "outputs": [],
   "source": [
    "msg = SystemMessage(content=\"You are a helpful assistant.\")"
   ],
   "metadata": {
    "collapsed": false,
    "ExecuteTime": {
     "end_time": "2023-09-30T16:11:21.839167201Z",
     "start_time": "2023-09-30T16:11:21.812302700Z"
    }
   },
   "id": "88b3d7a619367acb"
  },
  {
   "cell_type": "code",
   "execution_count": 24,
   "outputs": [
    {
     "data": {
      "text/plain": "SystemMessage(content='You are a helpful assistant.', additional_kwargs={})"
     },
     "execution_count": 24,
     "metadata": {},
     "output_type": "execute_result"
    }
   ],
   "source": [
    "msg"
   ],
   "metadata": {
    "collapsed": false,
    "ExecuteTime": {
     "end_time": "2023-09-30T16:11:23.050922835Z",
     "start_time": "2023-09-30T16:11:23.037447050Z"
    }
   },
   "id": "266782eab8fb3f7a"
  },
  {
   "cell_type": "code",
   "execution_count": 25,
   "outputs": [],
   "source": [
    "conversation.chat_memory.add_message(msg)"
   ],
   "metadata": {
    "collapsed": false,
    "ExecuteTime": {
     "end_time": "2023-09-30T16:11:26.306565733Z",
     "start_time": "2023-09-30T16:11:26.301227683Z"
    }
   },
   "id": "9a3c6955c1a92026"
  },
  {
   "cell_type": "code",
   "execution_count": 26,
   "outputs": [
    {
     "data": {
      "text/plain": "[SystemMessage(content='You are a helpful assistant.', additional_kwargs={})]"
     },
     "execution_count": 26,
     "metadata": {},
     "output_type": "execute_result"
    }
   ],
   "source": [
    "conversation.chat_memory.messages"
   ],
   "metadata": {
    "collapsed": false,
    "ExecuteTime": {
     "end_time": "2023-09-30T16:11:26.773511117Z",
     "start_time": "2023-09-30T16:11:26.766103638Z"
    }
   },
   "id": "5163ebfd7d071e96"
  },
  {
   "cell_type": "code",
   "execution_count": 27,
   "outputs": [],
   "source": [
    "conversation.chat_memory.add_user_message(\"Gostaria de testar uma mensagem de usuário.\")"
   ],
   "metadata": {
    "collapsed": false,
    "ExecuteTime": {
     "end_time": "2023-09-30T16:11:28.583103077Z",
     "start_time": "2023-09-30T16:11:28.573981187Z"
    }
   },
   "id": "b16aef2947eb5982"
  },
  {
   "cell_type": "code",
   "execution_count": 28,
   "outputs": [
    {
     "data": {
      "text/plain": "[SystemMessage(content='You are a helpful assistant.', additional_kwargs={}),\n HumanMessage(content='Gostaria de testar uma mensagem de usuário.', additional_kwargs={}, example=False)]"
     },
     "execution_count": 28,
     "metadata": {},
     "output_type": "execute_result"
    }
   ],
   "source": [
    "conversation.chat_memory.messages"
   ],
   "metadata": {
    "collapsed": false,
    "ExecuteTime": {
     "end_time": "2023-09-30T16:11:30.199240664Z",
     "start_time": "2023-09-30T16:11:30.194341189Z"
    }
   },
   "id": "208aa72016f796e9"
  },
  {
   "cell_type": "code",
   "execution_count": 29,
   "outputs": [
    {
     "data": {
      "text/plain": "[SystemMessage(content='You are a helpful assistant.', additional_kwargs={}),\n HumanMessage(content='Gostaria de testar uma mensagem de usuário.', additional_kwargs={}, example=False)]"
     },
     "execution_count": 29,
     "metadata": {},
     "output_type": "execute_result"
    }
   ],
   "source": [
    "store.messages"
   ],
   "metadata": {
    "collapsed": false,
    "ExecuteTime": {
     "end_time": "2023-09-30T16:11:31.312016722Z",
     "start_time": "2023-09-30T16:11:31.306045736Z"
    }
   },
   "id": "5b9a5f7e11f0ce37"
  },
  {
   "cell_type": "code",
   "execution_count": 60,
   "outputs": [],
   "source": [],
   "metadata": {
    "collapsed": false,
    "ExecuteTime": {
     "end_time": "2023-09-25T21:07:35.463859355Z",
     "start_time": "2023-09-25T21:07:35.419522527Z"
    }
   },
   "id": "f65a7088c163eeb3"
  },
  {
   "cell_type": "code",
   "execution_count": 30,
   "outputs": [
    {
     "data": {
      "text/plain": "'my-session'"
     },
     "execution_count": 30,
     "metadata": {},
     "output_type": "execute_result"
    }
   ],
   "source": [
    "store.session_id"
   ],
   "metadata": {
    "collapsed": false,
    "ExecuteTime": {
     "end_time": "2023-09-30T16:11:35.774590641Z",
     "start_time": "2023-09-30T16:11:35.768294713Z"
    }
   },
   "id": "44a79606331f9428"
  },
  {
   "cell_type": "code",
   "execution_count": 31,
   "outputs": [
    {
     "data": {
      "text/plain": "'my_test'"
     },
     "execution_count": 31,
     "metadata": {},
     "output_type": "execute_result"
    }
   ],
   "source": [
    "conversation.memory_key"
   ],
   "metadata": {
    "collapsed": false,
    "ExecuteTime": {
     "end_time": "2023-09-30T16:11:37.348367893Z",
     "start_time": "2023-09-30T16:11:37.343584161Z"
    }
   },
   "id": "597bd1cdcbc23933"
  },
  {
   "cell_type": "code",
   "execution_count": 32,
   "outputs": [
    {
     "data": {
      "text/plain": "[SystemMessage(content='You are a helpful assistant.', additional_kwargs={}),\n HumanMessage(content='Gostaria de testar uma mensagem de usuário.', additional_kwargs={}, example=False)]"
     },
     "execution_count": 32,
     "metadata": {},
     "output_type": "execute_result"
    }
   ],
   "source": [
    "conversation.chat_memory.messages"
   ],
   "metadata": {
    "collapsed": false,
    "ExecuteTime": {
     "end_time": "2023-09-30T16:11:38.526002562Z",
     "start_time": "2023-09-30T16:11:38.518937501Z"
    }
   },
   "id": "4d0f020366085ec8"
  },
  {
   "cell_type": "code",
   "execution_count": null,
   "outputs": [],
   "source": [],
   "metadata": {
    "collapsed": false
   },
   "id": "c8d481c5f8d8b5dc"
  }
 ],
 "metadata": {
  "kernelspec": {
   "display_name": "Python 3",
   "language": "python",
   "name": "python3"
  },
  "language_info": {
   "codemirror_mode": {
    "name": "ipython",
    "version": 2
   },
   "file_extension": ".py",
   "mimetype": "text/x-python",
   "name": "python",
   "nbconvert_exporter": "python",
   "pygments_lexer": "ipython2",
   "version": "2.7.6"
  }
 },
 "nbformat": 4,
 "nbformat_minor": 5
}
